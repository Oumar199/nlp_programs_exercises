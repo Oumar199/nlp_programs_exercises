{
 "cells": [
  {
   "attachments": {},
   "cell_type": "markdown",
   "metadata": {},
   "source": [
    "Récupération et exploration du corpus d'un texte\n",
    "--------------------------"
   ]
  },
  {
   "attachments": {},
   "cell_type": "markdown",
   "metadata": {},
   "source": [
    "Il est important de bien identifier 4 termes incontournables : \n",
    "\n",
    "- le corpus : un ensemble de documents (des textes dans notre cas), regroupés dans une optique ou dans une thématique précise. \n",
    "\n",
    "- un document : la notion de document fait référence à un texte appartenant au corpus, mais indépendant des autres textes. Il peut être constitué d'une ou plusieurs phrases, un ou plusieurs paragraphes.\n",
    "\n",
    "- un token : le terme token désigne généralement un mot et/ou un élément de ponctuation. La phrase \"Hello World!\" comprend donc 3 tokens. \n",
    "\n",
    "- le vocabulaire : il s'agit de l'ensemble des tokens distincts présents dans l'ensemble du corpus."
   ]
  },
  {
   "attachments": {},
   "cell_type": "markdown",
   "metadata": {},
   "source": [
    "Pour les documents .txt, .doc, .csv, .xls, cela semble facile, mais comment faire pour les documents .pdf ?  \n",
    "\n",
    "Transformer les documents .pdf en .txt n'est pas une chose facile. Ce traitement spécifique à un nom, cela s'appelle OCR :  Optical Character Recognition. \n",
    "\n",
    "Heureusement, il existe de nombreux packages disponibles, comme par exemple Tesseract."
   ]
  },
  {
   "attachments": {},
   "cell_type": "markdown",
   "metadata": {},
   "source": [
    "Nous allons aborder trois pré-traitements à effectuer:\n",
    "- Récupération et traitement du corpus\n",
    "- La tokénisation du corpus\n",
    "- La normalisation et la construction du dictionnaire"
   ]
  },
  {
   "attachments": {},
   "cell_type": "markdown",
   "metadata": {},
   "source": [
    "Le cycle de traitement d'un corpus"
   ]
  },
  {
   "attachments": {},
   "cell_type": "markdown",
   "metadata": {},
   "source": [
    "![pipeline](pipeline1.png)"
   ]
  },
  {
   "attachments": {},
   "cell_type": "markdown",
   "metadata": {},
   "source": [
    "### Récupération du corpus de texte"
   ]
  },
  {
   "attachments": {},
   "cell_type": "markdown",
   "metadata": {},
   "source": [
    "Attention au format d'encodage de vos fichiers texte qui peuvent mener à des erreurs faciles à éviter. On favorisera l'UTF-8 (encodage universel) très utilisé et qui permet l'usage des accents."
   ]
  },
  {
   "attachments": {},
   "cell_type": "markdown",
   "metadata": {},
   "source": [
    "![corpus_structure](text-corpus-structure.png)"
   ]
  },
  {
   "cell_type": "code",
   "execution_count": 9,
   "metadata": {},
   "outputs": [],
   "source": [
    "import nltk"
   ]
  },
  {
   "cell_type": "code",
   "execution_count": 10,
   "metadata": {},
   "outputs": [
    {
     "data": {
      "text/plain": [
       "['adventure',\n",
       " 'belles_lettres',\n",
       " 'editorial',\n",
       " 'fiction',\n",
       " 'government',\n",
       " 'hobbies',\n",
       " 'humor',\n",
       " 'learned',\n",
       " 'lore',\n",
       " 'mystery',\n",
       " 'news',\n",
       " 'religion',\n",
       " 'reviews',\n",
       " 'romance',\n",
       " 'science_fiction']"
      ]
     },
     "execution_count": 10,
     "metadata": {},
     "output_type": "execute_result"
    }
   ],
   "source": [
    "nltk.corpus.brown.categories()"
   ]
  },
  {
   "cell_type": "code",
   "execution_count": 11,
   "metadata": {},
   "outputs": [],
   "source": [
    "# prenons science_fiction et humor\n",
    "words = nltk.corpus.brown.words(categories=['humor', 'science_fiction'])"
   ]
  },
  {
   "cell_type": "code",
   "execution_count": 12,
   "metadata": {},
   "outputs": [
    {
     "data": {
      "text/plain": [
       "36165"
      ]
     },
     "execution_count": 12,
     "metadata": {},
     "output_type": "execute_result"
    }
   ],
   "source": [
    "len(words)"
   ]
  },
  {
   "attachments": {},
   "cell_type": "markdown",
   "metadata": {},
   "source": [
    "Scraping des descriptions des artistes francais disponible sur wikipedia https://fr.wikipedia.org/wiki/Liste_d%27artistes_fran%C3%A7ais"
   ]
  },
  {
   "cell_type": "code",
   "execution_count": 45,
   "metadata": {},
   "outputs": [
    {
     "name": "stderr",
     "output_type": "stream",
     "text": [
      "C:\\Users\\Oumar Kane\\AppData\\Local\\Temp\\ipykernel_10552\\3563997442.py:7: MatplotlibDeprecationWarning: The seaborn styles shipped by Matplotlib are deprecated since 3.6, as they no longer correspond to the styles shipped by seaborn. However, they will remain available as 'seaborn-v0_8-<style>'. Alternatively, directly use the seaborn API instead.\n",
      "  plt.style.use('seaborn-colorblind')\n"
     ]
    }
   ],
   "source": [
    "import requests as rq\n",
    "from bs4 import BeautifulSoup\n",
    "from tqdm import tqdm\n",
    "import pickle\n",
    "import pandas as pd\n",
    "import matplotlib.pyplot as plt\n",
    "plt.style.use('seaborn-colorblind')"
   ]
  },
  {
   "cell_type": "code",
   "execution_count": 14,
   "metadata": {},
   "outputs": [
    {
     "name": "stderr",
     "output_type": "stream",
     "text": [
      "100%|██████████| 399/399 [05:35<00:00,  1.19it/s]\n"
     ]
    }
   ],
   "source": [
    "url = r\"https://fr.wikipedia.org/wiki/Liste_d%27artistes_fran%C3%A7ais\"\n",
    "\n",
    "\n",
    "with rq.get(url) as response:\n",
    "    if response.ok:\n",
    "        text = response.text\n",
    "        \n",
    "        artistes = {}\n",
    "        \n",
    "        try:\n",
    "            dom = BeautifulSoup(text, \"lxml\")\n",
    "            artistes_li = dom.select('div[id = \"mw-content-text\"] li a[href *= \"/wiki\"]')\n",
    "            \n",
    "            # après récupération des listes nous pouvons passer à celles des noms et des descriptions\n",
    "            \n",
    "            for artiste in tqdm(artistes_li):\n",
    "                # recuperation du nom\n",
    "                name = artiste.text\n",
    "                \n",
    "                # recuperation de la description a partir du lien wikipedia\n",
    "                link = artiste.get('href')\n",
    "                \n",
    "                full_link = \"\".join([\"https://fr.wikipedia.org/\", link])\n",
    "                \n",
    "                descriptions = []\n",
    "                \n",
    "                with rq.get(full_link) as response2:\n",
    "                    \n",
    "                    if response2.ok:\n",
    "                        \n",
    "                        text2 = response2.text\n",
    "                    \n",
    "                        try:\n",
    "                            dom2 = BeautifulSoup(text2, \"lxml\")\n",
    "\n",
    "                            paragraphs = dom2.select('p')\n",
    "                        \n",
    "                            for paragraph in paragraphs:\n",
    "                                p_text = paragraph.text\n",
    "                                descriptions.append(p_text)\n",
    "                                \n",
    "                            \n",
    "                        except Exception as e:\n",
    "                            print(f\"Error part 2 {e}\")\n",
    "                \n",
    "                if len(descriptions) != 0:\n",
    "                     artistes[name] = \"\".join(descriptions)\n",
    "                \n",
    "        except Exception as e:\n",
    "            print(f\"Error {e}\")"
   ]
  },
  {
   "attachments": {},
   "cell_type": "markdown",
   "metadata": {},
   "source": [
    "Quelques textes ne faisant pas partie des descriptions des artistes reviennent fréquemment. Nous avons ci-dessus décider de les supprimer directement."
   ]
  },
  {
   "cell_type": "code",
   "execution_count": 15,
   "metadata": {},
   "outputs": [
    {
     "data": {
      "text/plain": [
       "[('Jean Pucelle',\n",
       "  \"\\n\\t\\t\\t\\tPages pour les contributeurs déconnectés en savoir plus\\nPour les articles homonymes, voir Pucelle.\\nmodifier - modifier le code - modifier WikidataJean Pucelle (mort en 1334) est un enlumineur français, actif à Paris entre 1319 et 1334.\\nSon nom apparaît dans plusieurs documents d'archives et deux manuscrits enluminés. Quelques autres ouvrages lui sont attribués, en personne ou à son atelier. Empreint d'influence italienne, son art influence durablement l'enluminure parisienne tout au long du XIVe\\xa0siècle.\\nLe peintre et enlumineur est mentionné pour la première fois, entre 1319 et 1324, dans les comptes de la confrérie parisienne de Saint-Jacques-aux-Pèlerins. Chargé d'en dessiner le sceau, il est rémunéré à ce titre[1].\\nSelon certains historiens de l'art, il aurait effectué vers 1322 un voyage en Toscane, et notamment à Sienne[2]. \\nDeux manuscrits contiennent des mentions établissant la participation de Jean Pucelle. Le Bréviaire de Belleville, réalisé entre 1323 et 1326, comporte des notes marginales qui précisent que Pucelle a payé une somme élevée à des collaborateurs pour la réalisation d'enluminures, ce qui indique qu'il dirige alors un important atelier[3]. Une bible écrite par Robert de Billing contient un colophon stipulant qu'il a enluminé l'ouvrage en 1327 avec deux autres artistes appelés «\\xa0Anciau de Cens et Jacquet Maci\\xa0». Enfin, un document d'archives atteste sa mort en 1334[4].\\nJean Pucelle introduit dans l'enluminure parisienne, jusqu'alors répétitive, une nouvelle conception de l'espace. Elle s'inspire de la peinture italienne, plus particulièrement de l'art siennois et de Duccio di Buoninsegna, dont elle reprend en outre le sens plastique. Cette inspiration italienne s'avère telle que certains historiens ont même avancé l'hypothèse qu'il pourrait s'agir d'un artiste italien venu s'installer à Paris nommé Giovanni Pucelli.\\nIl insuffle un nouvel élan qui se perpétuera jusqu'à la fin du XIVe\\xa0siècle chez de nombreux suiveurs, dont le plus célèbre est Jean le Noir. Cependant, les rares manuscrits qui lui sont attribués mettent en évidence un style très hétérogène. La part de ses collaborateurs s'avère si difficile à déterminer qu'on préfère parler d'un «\\xa0style pucellien\\xa0»[5].\\nSur les autres projets Wikimedia\\xa0:\"),\n",
       " ('Claus Sluter',\n",
       "  \"\\n\\t\\t\\t\\tPages pour les contributeurs déconnectés en savoir plus\\nmodifier - modifier le code - modifier WikidataClaus Sluter, ou encore Claes de Slutere van Herlamen (né à Haarlem vers 1355 - † janvier 1406 à Dijon) est un sculpteur originaire des Pays-bas au service des ducs de Bourgogne. Son œuvre novatrice a durablement influencé la sculpture gothique internationale de son temps. Parmi ses chefs-d'œuvre, sont encore conservés le portail de la chapelle de la chartreuse de Champmol, le puits de Moïse ou le tombeau de Philippe le Hardi qu'il a entamé.\\nIl est sans doute né à Haarlem en Hollande. Il s'est tout d'abord probablement formé à Bruxelles, où il est enregistré sur le registre des tailleurs de pierre comme Claes de Slutere van Herlamen en 1379. Il aurait, semble-t-il, fait un passage par Paris, et on attribue au jeune Sluter, les consoles de la tour du village du château de Vincennes (environ 1375). Il est attaché dès 1383 à la cour de Philippe le Hardi, duc de Bourgogne[1].\\nLe duc Philippe le Hardi le fait venir à Dijon où il s'installe le 1er mars 1385 avec d'autres tailleurs de pierre du Brabant pour constituer l'équipe de Champmol. Il est le second ouvrier de l'ymagier d'autel et varlet de chambre de Monseigneur Jean de Marville[2]. Jean de Marville tombe gravement malade le 1er mai 1389 et doit fermer l'atelier. Sluter devient à son tour l'ymagier officiel du duc Philippe et reprend l'atelier le 23 juillet. L'atelier des sculpteurs désormais quasiment entièrement constitué de sculpteurs d'origine flamande\\xa0: Philippot van Eram, Gillequin Tailleleu et son fils Tassin, Liefvin de Hane et son frère Mant, Hannequin Vauclair, Thomassin dit Larmite et Hannequin Stienne Vauclair. Mais il est aussi absorbé par d'autres tâches, soit pour la chartreuse de Champmol (l'oratoire ducal, le portail de l'église ou le calvaire du grand cloître dit Puits de Moïse), soit pour la chapelle ducale, soit pour les châteaux du duc et de la duchesse Marguerite de Flandre. Son travail à la cour du duc Philippe le Hardi était également largement occupé par la création d'œuvres pour des occasions uniques, tels des blasons ou des banderoles.\\nDès juin 1390, Claus Sluter fut épaulé à Dijon par trois collaborateurs bruxellois, à savoir Jan van Prindael et Willem Smout - ou Willequin Semonst - qui vinrent renforcer Hennequin de Brucelles présent depuis avril et Jehan de Selles, peut-être Bruxellois lui aussi, et qui était présent depuis février-mars. Smout resta au moins jusqu'en 1394, van Prindael jusqu'en 1399 - 1400. Depuis le 1er décembre 1396, Klaas van de Werve, son neveu et héritier, fut également actif à Dijon. Willem Smout travailla notamment ensuite à Lyon en 1398. Jan van Prindael, après un court séjour à Bruxelles où il fut juré du métier en 1403, travailla à Genève, à Chambéry et en Provence. Ainsi, tous les élèves et collaborateurs bourguignons de Claus Sluter contribuèrent à répandre le réalisme sculptural qu'il avait conçu et promu.\\nLe sculpteur tombe malade en 1399. Il quitte son logis au sein du palais des ducs en 1404 pour se retirer à l'abbaye Saint-Étienne de Dijon[3]. Il meurt quelques mois après, probablement en janvier 1406, célibataire sans enfant, son neveu Claus de Werve - ou Klaas van de Werve - étant son seul héritier. Les dernières statues du puits de Moïse sont achevées et scellées sur place au début de l'année 1405, d'après ce qu'indique l'inventaire de son atelier après sa mort en 1406. Le marché signé en 1404 pour l'achèvement du tombeau de Philippe de Bourgogne est d'ailleurs repris par le neveu[4].\\nClaus Sluter amène la sculpture à un niveau d'expressivité nouveau. Les statues cessent désormais de faire corps avec l'architecture et la physionomie est traitée de façon naturaliste, n'hésitant pas à accuser les aspects de la laideur et de la souffrance. Les pleurants serviront de référence aux monuments funéraires du siècle en France, à commencer par le Tombeau de Jean sans Peur et de Marguerite de Bavière.\\nLa pièce maitresse de la Chartreuse de Champmol, commencée par Jean de Marville, puis Claus Sluter et terminée après sa mort par son élève et neveu, Claus de Werve.\\nClaus Sluter laisse le tombeau de Philippe le Hardi en chantier. Aussi, lorsque Philippe le Hardi meurt à Hal le 27 avril 1404, la partie sculpturale reste entièrement à faire. Le 14 juillet 1404, le duc Jean sans Peur, fils de Philippe le Hardi, charge Claus Sluter d'exécuter les sculptures en quatre ans. À cette date, seulement deux des «\\xa0pleurants\\xa0» (statuettes) ont été réalisés. Or le cadre architectural, élaboré par Jean de Marville, a ménagé la place pour quarante personnages. Claus Sluter est déjà malade au moment de la mort du duc Philippe le Hardi et vit à demi-retiré depuis le 7 avril 1404 à l'abbaye Saint-Étienne, proche de son ouvroir. Il lui est impossible d'assumer l'exécution des pleurants du tombeau, ainsi que trois des prophètes pour le Puits de Moise. Il fut achevé par son neveu et élève Claus de Werve jusqu'à sa livraison, en 1410. Le tombeau pris place dans le chœur de la chapelle de la Chartreuse. Après la Révolution, le cénotaphe a été déplacé dans la Cathédrale Saint-Bénigne de Dijon, puis au Palais des ducs de Bourgogne, actuellement musée des beaux-arts de Dijon.\\nPleurants de la tombe de Philippe le Hardi (1410)\\nPleurant aux mains levées du Tombeau de Philippe le Hardi (1410)\\nLe puits sculpté qui accueillait auparavant un calvaire, était situé au centre du grand cloître. Il nous reste la représentation de six prophètes, empreinte de réalisme et d'expression. Des fragments du calvaire le surplombant sont par ailleurs conservés au musée archéologique de Dijon, et notamment le buste du Christ, cependant l'attribution de cette dernière sculpture a été depuis remise en cause[5].\\nLe puits de Moïse, Daniel et Isaïe\\nLe puits de Moïse, Moïse et David\\nLe puits de Moïse, David et Jérémie\\nLe portail a été commencé par Jean de Marville en 1388, puis agrandi par Claus Sluter, qui a réalisé les cinq statues, achevées en 1393. Ces statues représentent Une Vierge à l'enfant en torsion dynamique et détachée par sa dimension et sa forme de l'architecture de la porte. Elle est encadrée de chaque côté par les donateurs\\xa0: Philippe le Hardi et son épouse Marguerite de Flandre, en priants réalistes et grandeur nature, avec leurs saints protecteurs\\xa0: sainte Catherine d'Alexandrie et saint Jean-Baptiste. L'ensemble crée une perspective propre affranchie de la verticalité de la porte.\\nLes statues des mécènes (Philippe le Hardi et Marguerite de Flandre) seraient d'authentiques portraits, car ils présentent les défauts physiques du duc et de la duchesse (le fameux double-menton de Marguerite de Flandres). Les draperies et les vêtements sont traités avec dynamisme, énergie et mouvement, les expressions des personnages sont d'un grand réalisme.\\nPortail de la chapelle de la Chartreuse de Champmol (1393)\\nLa Vierge du trumeau regardant le Christ\\nLa comptabilité des ducs de Bourgogne nous renseignent sur deux œuvres réalisées par Claus Sluter et ses collaborateurs dans le château de Germolles, résidence de plaisance de la duchesse Marguerite de Flandre. On sait ainsi que le maître réalisa entre 1393 et 1396 une sculpture destinée à être placée dans la cour du château, représentant Philippe le Hardi et Marguerite de Flandre placés sous un orme et entourés de brebis[6]. De même, il réalisa pour l'entrée de la résidence une Notre Dame entre 1397 et 1399, au-dessus de la porte du château. Alors que ces deux œuvres ont disparu le travail de Sluter et de son atelier apparaît dans les éléments de la cheminée monumentale de la grande salle à travers deux figures-consoles et l'illustration d'un passage du roman de Chrétien de Troyes\\xa0: Yvain ou le Chevalier au lion.\\nQuelques œuvres actuellement conservées dans des musées sont attribuées à Claus Sluter ou plus vraisemblablement à son atelier.\\nSur les autres projets Wikimedia\\xa0:\")]"
      ]
     },
     "execution_count": 15,
     "metadata": {},
     "output_type": "execute_result"
    }
   ],
   "source": [
    "list(artistes.items())[:2]"
   ]
  },
  {
   "attachments": {},
   "cell_type": "markdown",
   "metadata": {},
   "source": [
    "Vérification du nombre d'artistes."
   ]
  },
  {
   "cell_type": "code",
   "execution_count": 16,
   "metadata": {},
   "outputs": [
    {
     "data": {
      "text/plain": [
       "383"
      ]
     },
     "execution_count": 16,
     "metadata": {},
     "output_type": "execute_result"
    }
   ],
   "source": [
    "len(artistes)"
   ]
  },
  {
   "attachments": {},
   "cell_type": "markdown",
   "metadata": {},
   "source": [
    "### Exploration du text: tokenisation et analyse des fréquences"
   ]
  },
  {
   "cell_type": "code",
   "execution_count": 17,
   "metadata": {},
   "outputs": [
    {
     "data": {
      "text/plain": [
       "['Bonjour',\n",
       " ',',\n",
       " 'je',\n",
       " 'suis',\n",
       " 'un',\n",
       " 'texte',\n",
       " \"d'exemple\",\n",
       " 'pour',\n",
       " 'le',\n",
       " 'cours',\n",
       " \"d'Openclassrooms\",\n",
       " '.',\n",
       " 'Soyez',\n",
       " 'attentifs',\n",
       " 'à',\n",
       " 'ce',\n",
       " 'cours',\n",
       " '!']"
      ]
     },
     "execution_count": 17,
     "metadata": {},
     "output_type": "execute_result"
    }
   ],
   "source": [
    "text = \"Bonjour, je suis un texte d'exemple pour le cours d'Openclassrooms. Soyez attentifs à ce cours !\"\n",
    "\n",
    "nltk.word_tokenize(text)"
   ]
  },
  {
   "attachments": {},
   "cell_type": "markdown",
   "metadata": {},
   "source": [
    "Les accents sont affichés encodés mais ce n'est pas très grave, on peut revenir à un affichage normal si on le souhaite.\n",
    "\n",
    "Le fait d'essayer d'harmoniser les tokens est un processus nommé « normalisation ». \n",
    "\n",
    "https://www.debuggex.com/cheatsheet/regex/python"
   ]
  },
  {
   "cell_type": "code",
   "execution_count": 18,
   "metadata": {},
   "outputs": [
    {
     "data": {
      "text/plain": [
       "['Bonjour',\n",
       " 'je',\n",
       " 'suis',\n",
       " 'un',\n",
       " 'texte',\n",
       " 'd',\n",
       " 'exemple',\n",
       " 'pour',\n",
       " 'le',\n",
       " 'cours',\n",
       " 'd',\n",
       " 'Openclassrooms',\n",
       " 'Soyez',\n",
       " 'attentifs',\n",
       " 'à',\n",
       " 'ce',\n",
       " 'cours']"
      ]
     },
     "execution_count": 18,
     "metadata": {},
     "output_type": "execute_result"
    }
   ],
   "source": [
    "tokenizer = nltk.RegexpTokenizer(r'\\w+')\n",
    "\n",
    "tokenizer.tokenize(text)"
   ]
  },
  {
   "cell_type": "code",
   "execution_count": 29,
   "metadata": {},
   "outputs": [],
   "source": [
    "from nltk.corpus import stopwords"
   ]
  },
  {
   "cell_type": "code",
   "execution_count": 33,
   "metadata": {},
   "outputs": [],
   "source": [
    "stopwords = stopwords.words(\"french\")"
   ]
  },
  {
   "attachments": {},
   "cell_type": "markdown",
   "metadata": {},
   "source": [
    "Explorons les fréquences de mots utilisés pour la description de chaque artiste suivant les artistes."
   ]
  },
  {
   "cell_type": "code",
   "execution_count": 34,
   "metadata": {},
   "outputs": [],
   "source": [
    "def get_frequency(dictionary: dict, regex: str = r\"\\w+\", to_remove: list = [r\"\\n\\t\\t\\t\\tPages pour les contributeurs déconnectés en savoir plus\\n\", r\"modifier - modifier le code - modifier Wikidata\", r\"\\nSur les autres projets Wikimedia\\xa0:\"]):\n",
    "    \n",
    "    # Nous voulons eviter les stopwords en francais donc nous allons les enlever\n",
    "    \n",
    "    # Creation du tokenizer\n",
    "    tokenizer = nltk.RegexpTokenizer(regex)\n",
    "    \n",
    "    # Appliquons d'abord quelques normalisations du text\n",
    "    corpora = {}\n",
    "    for key, value in dictionary.items():\n",
    "        # application du regex et transformation en miniscules des lettres\n",
    "        for t in to_remove:\n",
    "            value = value.replace(t, \"\")\n",
    "        corpora[key] = [word for word in tokenizer.tokenize(value.lower()) if word not in stopwords]\n",
    "    \n",
    "    freq, stats = dict(), dict()\n",
    "    for key, value in corpora.items():\n",
    "        freq[key] = fq = nltk.FreqDist(value)\n",
    "        stats[key] = {\"total\": len(value), \"unique\": len(fq.keys())}\n",
    "    \n",
    "    return freq, stats, corpora"
   ]
  },
  {
   "attachments": {},
   "cell_type": "markdown",
   "metadata": {},
   "source": [
    "Sauvegardons les données recueillies du webscraping."
   ]
  },
  {
   "cell_type": "code",
   "execution_count": 35,
   "metadata": {},
   "outputs": [],
   "source": [
    "with open(\"artistes.txt\", \"wb\") as f:\n",
    "    pick = pickle.Pickler(f)\n",
    "    pick.dump(artistes)"
   ]
  },
  {
   "attachments": {},
   "cell_type": "markdown",
   "metadata": {},
   "source": [
    "Tracons les fréquences à l'aide d'un dataframe pandas"
   ]
  },
  {
   "cell_type": "code",
   "execution_count": 36,
   "metadata": {},
   "outputs": [],
   "source": [
    "freq, stats, corpora = get_frequency(artistes)"
   ]
  },
  {
   "cell_type": "code",
   "execution_count": 38,
   "metadata": {},
   "outputs": [],
   "source": [
    "df = pd.DataFrame.from_dict(stats, orient=\"index\")"
   ]
  },
  {
   "cell_type": "code",
   "execution_count": 39,
   "metadata": {},
   "outputs": [
    {
     "data": {
      "text/html": [
       "<div>\n",
       "<style scoped>\n",
       "    .dataframe tbody tr th:only-of-type {\n",
       "        vertical-align: middle;\n",
       "    }\n",
       "\n",
       "    .dataframe tbody tr th {\n",
       "        vertical-align: top;\n",
       "    }\n",
       "\n",
       "    .dataframe thead th {\n",
       "        text-align: right;\n",
       "    }\n",
       "</style>\n",
       "<table border=\"1\" class=\"dataframe\">\n",
       "  <thead>\n",
       "    <tr style=\"text-align: right;\">\n",
       "      <th></th>\n",
       "      <th>total</th>\n",
       "      <th>unique</th>\n",
       "    </tr>\n",
       "  </thead>\n",
       "  <tbody>\n",
       "    <tr>\n",
       "      <th>Jean Pucelle</th>\n",
       "      <td>220</td>\n",
       "      <td>175</td>\n",
       "    </tr>\n",
       "    <tr>\n",
       "      <th>Claus Sluter</th>\n",
       "      <td>782</td>\n",
       "      <td>472</td>\n",
       "    </tr>\n",
       "    <tr>\n",
       "      <th>Bourgogne</th>\n",
       "      <td>1418</td>\n",
       "      <td>804</td>\n",
       "    </tr>\n",
       "    <tr>\n",
       "      <th>Les frères de Limbourg</th>\n",
       "      <td>1080</td>\n",
       "      <td>652</td>\n",
       "    </tr>\n",
       "    <tr>\n",
       "      <th>Antoine Le Moiturier</th>\n",
       "      <td>290</td>\n",
       "      <td>211</td>\n",
       "    </tr>\n",
       "  </tbody>\n",
       "</table>\n",
       "</div>"
      ],
      "text/plain": [
       "                        total  unique\n",
       "Jean Pucelle              220     175\n",
       "Claus Sluter              782     472\n",
       "Bourgogne                1418     804\n",
       "Les frères de Limbourg   1080     652\n",
       "Antoine Le Moiturier      290     211"
      ]
     },
     "execution_count": 39,
     "metadata": {},
     "output_type": "execute_result"
    }
   ],
   "source": [
    "df.head()"
   ]
  },
  {
   "attachments": {},
   "cell_type": "markdown",
   "metadata": {},
   "source": [
    "Prenons le top 30"
   ]
  },
  {
   "cell_type": "code",
   "execution_count": 40,
   "metadata": {},
   "outputs": [],
   "source": [
    "df_sorted = df.sort_values('total', ascending=False)"
   ]
  },
  {
   "cell_type": "code",
   "execution_count": 41,
   "metadata": {},
   "outputs": [],
   "source": [
    "df_top = df_sorted.head(30)"
   ]
  },
  {
   "cell_type": "code",
   "execution_count": 42,
   "metadata": {},
   "outputs": [
    {
     "data": {
      "text/html": [
       "<div>\n",
       "<style scoped>\n",
       "    .dataframe tbody tr th:only-of-type {\n",
       "        vertical-align: middle;\n",
       "    }\n",
       "\n",
       "    .dataframe tbody tr th {\n",
       "        vertical-align: top;\n",
       "    }\n",
       "\n",
       "    .dataframe thead th {\n",
       "        text-align: right;\n",
       "    }\n",
       "</style>\n",
       "<table border=\"1\" class=\"dataframe\">\n",
       "  <thead>\n",
       "    <tr style=\"text-align: right;\">\n",
       "      <th></th>\n",
       "      <th>total</th>\n",
       "      <th>unique</th>\n",
       "    </tr>\n",
       "  </thead>\n",
       "  <tbody>\n",
       "    <tr>\n",
       "      <th>Charles Le Brun</th>\n",
       "      <td>18774</td>\n",
       "      <td>5516</td>\n",
       "    </tr>\n",
       "    <tr>\n",
       "      <th>Albert Marquet</th>\n",
       "      <td>11073</td>\n",
       "      <td>4332</td>\n",
       "    </tr>\n",
       "    <tr>\n",
       "      <th>Pierre Bonnard</th>\n",
       "      <td>10882</td>\n",
       "      <td>4361</td>\n",
       "    </tr>\n",
       "    <tr>\n",
       "      <th>Chaïm Soutine</th>\n",
       "      <td>10479</td>\n",
       "      <td>4427</td>\n",
       "    </tr>\n",
       "    <tr>\n",
       "      <th>Édouard Manet</th>\n",
       "      <td>10100</td>\n",
       "      <td>3673</td>\n",
       "    </tr>\n",
       "    <tr>\n",
       "      <th>Jacques Louis David</th>\n",
       "      <td>9889</td>\n",
       "      <td>3861</td>\n",
       "    </tr>\n",
       "    <tr>\n",
       "      <th>Hyacinthe Rigaud</th>\n",
       "      <td>8582</td>\n",
       "      <td>3443</td>\n",
       "    </tr>\n",
       "    <tr>\n",
       "      <th>Gustave Courbet</th>\n",
       "      <td>8309</td>\n",
       "      <td>3555</td>\n",
       "    </tr>\n",
       "    <tr>\n",
       "      <th>Gustave Moreau</th>\n",
       "      <td>8091</td>\n",
       "      <td>3246</td>\n",
       "    </tr>\n",
       "    <tr>\n",
       "      <th>Georges Braque</th>\n",
       "      <td>7382</td>\n",
       "      <td>2795</td>\n",
       "    </tr>\n",
       "    <tr>\n",
       "      <th>Vincent van Gogh</th>\n",
       "      <td>7277</td>\n",
       "      <td>2866</td>\n",
       "    </tr>\n",
       "    <tr>\n",
       "      <th>Eugène Delacroix</th>\n",
       "      <td>7228</td>\n",
       "      <td>3278</td>\n",
       "    </tr>\n",
       "    <tr>\n",
       "      <th>Alberto Giacometti</th>\n",
       "      <td>6850</td>\n",
       "      <td>2824</td>\n",
       "    </tr>\n",
       "    <tr>\n",
       "      <th>Nicolas de Staël</th>\n",
       "      <td>6584</td>\n",
       "      <td>2816</td>\n",
       "    </tr>\n",
       "    <tr>\n",
       "      <th>Claude Monet</th>\n",
       "      <td>6545</td>\n",
       "      <td>2649</td>\n",
       "    </tr>\n",
       "    <tr>\n",
       "      <th>Marie Laurencin</th>\n",
       "      <td>5078</td>\n",
       "      <td>2667</td>\n",
       "    </tr>\n",
       "    <tr>\n",
       "      <th>Jean Dubuffet</th>\n",
       "      <td>5028</td>\n",
       "      <td>2330</td>\n",
       "    </tr>\n",
       "    <tr>\n",
       "      <th>Auguste Rodin</th>\n",
       "      <td>4890</td>\n",
       "      <td>2250</td>\n",
       "    </tr>\n",
       "    <tr>\n",
       "      <th>Paul Cézanne</th>\n",
       "      <td>4664</td>\n",
       "      <td>2181</td>\n",
       "    </tr>\n",
       "    <tr>\n",
       "      <th>Berthe Morisot</th>\n",
       "      <td>4338</td>\n",
       "      <td>1915</td>\n",
       "    </tr>\n",
       "    <tr>\n",
       "      <th>Edgar Degas</th>\n",
       "      <td>4306</td>\n",
       "      <td>2077</td>\n",
       "    </tr>\n",
       "    <tr>\n",
       "      <th>Jean-Baptiste Siméon Chardin</th>\n",
       "      <td>4180</td>\n",
       "      <td>2122</td>\n",
       "    </tr>\n",
       "    <tr>\n",
       "      <th>Gustave Caillebotte</th>\n",
       "      <td>4045</td>\n",
       "      <td>1896</td>\n",
       "    </tr>\n",
       "    <tr>\n",
       "      <th>Henri Matisse</th>\n",
       "      <td>3917</td>\n",
       "      <td>2085</td>\n",
       "    </tr>\n",
       "    <tr>\n",
       "      <th>Pierre Soulages</th>\n",
       "      <td>3586</td>\n",
       "      <td>1897</td>\n",
       "    </tr>\n",
       "    <tr>\n",
       "      <th>Niki de Saint Phalle</th>\n",
       "      <td>3402</td>\n",
       "      <td>1711</td>\n",
       "    </tr>\n",
       "    <tr>\n",
       "      <th>Yves Klein</th>\n",
       "      <td>3380</td>\n",
       "      <td>1660</td>\n",
       "    </tr>\n",
       "    <tr>\n",
       "      <th>Jean Fouquet</th>\n",
       "      <td>3238</td>\n",
       "      <td>1558</td>\n",
       "    </tr>\n",
       "    <tr>\n",
       "      <th>Nicolas Poussin</th>\n",
       "      <td>3229</td>\n",
       "      <td>1615</td>\n",
       "    </tr>\n",
       "    <tr>\n",
       "      <th>Marcel Duchamp</th>\n",
       "      <td>3167</td>\n",
       "      <td>1787</td>\n",
       "    </tr>\n",
       "  </tbody>\n",
       "</table>\n",
       "</div>"
      ],
      "text/plain": [
       "                              total  unique\n",
       "Charles Le Brun               18774    5516\n",
       "Albert Marquet                11073    4332\n",
       "Pierre Bonnard                10882    4361\n",
       "Chaïm Soutine                 10479    4427\n",
       "Édouard Manet                 10100    3673\n",
       "Jacques Louis David            9889    3861\n",
       "Hyacinthe Rigaud               8582    3443\n",
       "Gustave Courbet                8309    3555\n",
       "Gustave Moreau                 8091    3246\n",
       "Georges Braque                 7382    2795\n",
       "Vincent van Gogh               7277    2866\n",
       "Eugène Delacroix               7228    3278\n",
       "Alberto Giacometti             6850    2824\n",
       "Nicolas de Staël               6584    2816\n",
       "Claude Monet                   6545    2649\n",
       "Marie Laurencin                5078    2667\n",
       "Jean Dubuffet                  5028    2330\n",
       "Auguste Rodin                  4890    2250\n",
       "Paul Cézanne                   4664    2181\n",
       "Berthe Morisot                 4338    1915\n",
       "Edgar Degas                    4306    2077\n",
       "Jean-Baptiste Siméon Chardin   4180    2122\n",
       "Gustave Caillebotte            4045    1896\n",
       "Henri Matisse                  3917    2085\n",
       "Pierre Soulages                3586    1897\n",
       "Niki de Saint Phalle           3402    1711\n",
       "Yves Klein                     3380    1660\n",
       "Jean Fouquet                   3238    1558\n",
       "Nicolas Poussin                3229    1615\n",
       "Marcel Duchamp                 3167    1787"
      ]
     },
     "execution_count": 42,
     "metadata": {},
     "output_type": "execute_result"
    }
   ],
   "source": [
    "df_top"
   ]
  },
  {
   "cell_type": "code",
   "execution_count": 51,
   "metadata": {},
   "outputs": [
    {
     "data": {
      "text/plain": [
       "<AxesSubplot: title={'center': 'Top 30 des artistes avec le plus de mots utilisés'}>"
      ]
     },
     "execution_count": 51,
     "metadata": {},
     "output_type": "execute_result"
    },
    {
     "data": {
      "image/png": "[encoded data removed]",
      "text/plain": [
       "<Figure size 1400x500 with 1 Axes>"
      ]
     },
     "metadata": {},
     "output_type": "display_data"
    }
   ],
   "source": [
    "plt.figure(figsize=(14, 5))\n",
    "ax = df_top['total'].plot(kind=\"bar\", color = \"#64f38c\", title=\"Top 30 des artistes avec le plus de mots utilisés\")\n",
    "df_top['unique'].plot(kind=\"bar\", color = \"#f79d00\", ax = ax)"
   ]
  }
 ],
 "metadata": {
  "kernelspec": {
   "display_name": "grammarrules-R9LSO1qf-py3.10",
   "language": "python",
   "name": "python3"
  },
  "language_info": {
   "codemirror_mode": {
    "name": "ipython",
    "version": 3
   },
   "file_extension": ".py",
   "mimetype": "text/x-python",
   "name": "python",
   "nbconvert_exporter": "python",
   "pygments_lexer": "ipython3",
   "version": "3.10.4"
  },
  "orig_nbformat": 4,
  "vscode": {
   "interpreter": {
    "hash": "350e372a59c6a2174c4996d01ba34ddc044542d9850a5b2a01946a38bca0736a"
   }
  }
 },
 "nbformat": 4,
 "nbformat_minor": 2
}
